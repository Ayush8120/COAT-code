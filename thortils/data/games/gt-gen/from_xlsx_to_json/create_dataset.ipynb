{
 "cells": [
  {
   "cell_type": "code",
   "execution_count": 95,
   "metadata": {},
   "outputs": [],
   "source": [
    "import json\n",
    "import os\n",
    "import pandas as pd"
   ]
  },
  {
   "cell_type": "code",
   "execution_count": 96,
   "metadata": {},
   "outputs": [],
   "source": [
    "def save_data_to_json(data, json_path):\n",
    "    with open(json_path, \"w\") as fp:\n",
    "        json.dump(data, fp, indent=4)"
   ]
  },
  {
   "cell_type": "code",
   "execution_count": 97,
   "metadata": {},
   "outputs": [],
   "source": [
    "# ROOT_DIR = '/home/raghav/Dev/concept-bot'\n",
    "ROOT_DIR = '/run/user/1000/gvfs/sftp:host=ada,user=raghav.prabhakar/home2/raghav.prabhakar/ayush/concept-bot/'\n",
    "RAW_DATA_PATH = os.path.join(ROOT_DIR, 'thortils/data/raw/data.xlsx')\n",
    "OUTPUT_PATH_1 = os.path.join(ROOT_DIR, 'thortils/data/task_0_results/Exp_1/GT_used')\n",
    "OUTPUT_PATH_2 = os.path.join(ROOT_DIR, 'thortils/data/task_1_results/Exp_1/GT_used')"
   ]
  },
  {
   "cell_type": "code",
   "execution_count": 98,
   "metadata": {},
   "outputs": [
    {
     "data": {
      "text/html": [
       "<div>\n",
       "<style scoped>\n",
       "    .dataframe tbody tr th:only-of-type {\n",
       "        vertical-align: middle;\n",
       "    }\n",
       "\n",
       "    .dataframe tbody tr th {\n",
       "        vertical-align: top;\n",
       "    }\n",
       "\n",
       "    .dataframe thead th {\n",
       "        text-align: right;\n",
       "    }\n",
       "</style>\n",
       "<table border=\"1\" class=\"dataframe\">\n",
       "  <thead>\n",
       "    <tr style=\"text-align: right;\">\n",
       "      <th></th>\n",
       "      <th>Concept</th>\n",
       "      <th>Objects</th>\n",
       "    </tr>\n",
       "  </thead>\n",
       "  <tbody>\n",
       "    <tr>\n",
       "      <th>0</th>\n",
       "      <td>heating(source)</td>\n",
       "      <td>Microwave, StoveBurner,Toaster, Oven, CoffeeMa...</td>\n",
       "    </tr>\n",
       "    <tr>\n",
       "      <th>1</th>\n",
       "      <td>carrying</td>\n",
       "      <td>WineBottle, WateringCan, Vase, Bottle, Cup, Mu...</td>\n",
       "    </tr>\n",
       "    <tr>\n",
       "      <th>2</th>\n",
       "      <td>cleaning</td>\n",
       "      <td>DishSponge, ScrubBrush, Plunger, PaperTowelRol...</td>\n",
       "    </tr>\n",
       "    <tr>\n",
       "      <th>3</th>\n",
       "      <td>washing</td>\n",
       "      <td>BathTubBasin, SinkBasin,Toilet</td>\n",
       "    </tr>\n",
       "    <tr>\n",
       "      <th>4</th>\n",
       "      <td>cutting</td>\n",
       "      <td>ButterKnife, Knife, Fork, Spatula</td>\n",
       "    </tr>\n",
       "    <tr>\n",
       "      <th>5</th>\n",
       "      <td>disposing</td>\n",
       "      <td>GarbageCan, BathTubBasin, SinkBasin, Toilet</td>\n",
       "    </tr>\n",
       "    <tr>\n",
       "      <th>6</th>\n",
       "      <td>mixing(tool)</td>\n",
       "      <td>Ladle, Fork, Spoon, Spatula,ButterKnife, Knife</td>\n",
       "    </tr>\n",
       "    <tr>\n",
       "      <th>7</th>\n",
       "      <td>mixing(vessel)</td>\n",
       "      <td>Pan, Bowl, Kettle, Cup, Plate, Pot</td>\n",
       "    </tr>\n",
       "    <tr>\n",
       "      <th>8</th>\n",
       "      <td>heating(vessel)</td>\n",
       "      <td>Pan, Bowl, Kettle, Cup, Plate, Pot</td>\n",
       "    </tr>\n",
       "    <tr>\n",
       "      <th>9</th>\n",
       "      <td>storage</td>\n",
       "      <td>Drawer, Cabinet, Dresser, Fridge, LaundryHampe...</td>\n",
       "    </tr>\n",
       "  </tbody>\n",
       "</table>\n",
       "</div>"
      ],
      "text/plain": [
       "           Concept                                            Objects\n",
       "0  heating(source)  Microwave, StoveBurner,Toaster, Oven, CoffeeMa...\n",
       "1         carrying  WineBottle, WateringCan, Vase, Bottle, Cup, Mu...\n",
       "2         cleaning  DishSponge, ScrubBrush, Plunger, PaperTowelRol...\n",
       "3          washing                     BathTubBasin, SinkBasin,Toilet\n",
       "4          cutting                  ButterKnife, Knife, Fork, Spatula\n",
       "5        disposing        GarbageCan, BathTubBasin, SinkBasin, Toilet\n",
       "6     mixing(tool)     Ladle, Fork, Spoon, Spatula,ButterKnife, Knife\n",
       "7   mixing(vessel)                 Pan, Bowl, Kettle, Cup, Plate, Pot\n",
       "8  heating(vessel)                 Pan, Bowl, Kettle, Cup, Plate, Pot\n",
       "9          storage  Drawer, Cabinet, Dresser, Fridge, LaundryHampe..."
      ]
     },
     "execution_count": 98,
     "metadata": {},
     "output_type": "execute_result"
    }
   ],
   "source": [
    "concept_bag = pd.read_excel(RAW_DATA_PATH, sheet_name='Concepts')\n",
    "concept_bag.head(10)"
   ]
  },
  {
   "cell_type": "code",
   "execution_count": 99,
   "metadata": {},
   "outputs": [],
   "source": [
    "concepts = list(map(lambda x: x.lower().strip(), list(concept_bag['Concept'])))\n",
    "\n",
    "save_data_to_json(concepts, f'{OUTPUT_PATH_1}/concepts.json')\n",
    "save_data_to_json(concepts, f'{OUTPUT_PATH_2}/concepts.json')"
   ]
  },
  {
   "cell_type": "code",
   "execution_count": 100,
   "metadata": {},
   "outputs": [],
   "source": [
    "objects = {}\n",
    "for _, row in concept_bag.iterrows():\n",
    "    # objects[row['Concept'].lower().strip()] = [row['Objects']]\n",
    "    objects[row['Concept'].lower().strip()] = list(map(lambda x: x.strip(), row['Objects'].split(',')))\n",
    "\n",
    "save_data_to_json(objects, f'{OUTPUT_PATH_1}/objects.json')\n",
    "save_data_to_json(objects, f'{OUTPUT_PATH_2}/objects.json')"
   ]
  },
  {
   "cell_type": "code",
   "execution_count": 101,
   "metadata": {},
   "outputs": [
    {
     "data": {
      "text/html": [
       "<div>\n",
       "<style scoped>\n",
       "    .dataframe tbody tr th:only-of-type {\n",
       "        vertical-align: middle;\n",
       "    }\n",
       "\n",
       "    .dataframe tbody tr th {\n",
       "        vertical-align: top;\n",
       "    }\n",
       "\n",
       "    .dataframe thead th {\n",
       "        text-align: right;\n",
       "    }\n",
       "</style>\n",
       "<table border=\"1\" class=\"dataframe\">\n",
       "  <thead>\n",
       "    <tr style=\"text-align: right;\">\n",
       "      <th></th>\n",
       "      <th>Activity</th>\n",
       "      <th>Question</th>\n",
       "      <th>Concept</th>\n",
       "      <th>CommonSense Objects</th>\n",
       "    </tr>\n",
       "  </thead>\n",
       "  <tbody>\n",
       "    <tr>\n",
       "      <th>0</th>\n",
       "      <td>reheating coffee</td>\n",
       "      <td>what</td>\n",
       "      <td>heating(source)</td>\n",
       "      <td>CoffeeMachine, Microwave, StoveBurner</td>\n",
       "    </tr>\n",
       "    <tr>\n",
       "      <th>1</th>\n",
       "      <td>reheating coffee in a CoffeeMachine</td>\n",
       "      <td>what</td>\n",
       "      <td>heating(vessel)</td>\n",
       "      <td>Cup, Mug</td>\n",
       "    </tr>\n",
       "    <tr>\n",
       "      <th>2</th>\n",
       "      <td>reheating coffee in a Microwave</td>\n",
       "      <td>what</td>\n",
       "      <td>heating(vessel)</td>\n",
       "      <td>Cup,Mug</td>\n",
       "    </tr>\n",
       "    <tr>\n",
       "      <th>3</th>\n",
       "      <td>reheating coffee on a Stove</td>\n",
       "      <td>what</td>\n",
       "      <td>heating(vessel)</td>\n",
       "      <td>Pot,Kettle</td>\n",
       "    </tr>\n",
       "    <tr>\n",
       "      <th>4</th>\n",
       "      <td>washing dishes</td>\n",
       "      <td>what</td>\n",
       "      <td>cleaning</td>\n",
       "      <td>DishSponge, SoapBar, SoapBottle</td>\n",
       "    </tr>\n",
       "  </tbody>\n",
       "</table>\n",
       "</div>"
      ],
      "text/plain": [
       "                              Activity Question          Concept  \\\n",
       "0                     reheating coffee     what  heating(source)   \n",
       "1  reheating coffee in a CoffeeMachine     what  heating(vessel)   \n",
       "2      reheating coffee in a Microwave     what  heating(vessel)   \n",
       "3          reheating coffee on a Stove     what  heating(vessel)   \n",
       "4                       washing dishes     what         cleaning   \n",
       "\n",
       "                     CommonSense Objects  \n",
       "0  CoffeeMachine, Microwave, StoveBurner  \n",
       "1                               Cup, Mug  \n",
       "2                                Cup,Mug  \n",
       "3                             Pot,Kettle  \n",
       "4        DishSponge, SoapBar, SoapBottle  "
      ]
     },
     "execution_count": 101,
     "metadata": {},
     "output_type": "execute_result"
    }
   ],
   "source": [
    "oracle_csv = pd.read_excel(RAW_DATA_PATH, sheet_name='Oracle')\n",
    "oracle_csv.head()"
   ]
  },
  {
   "cell_type": "code",
   "execution_count": 102,
   "metadata": {},
   "outputs": [],
   "source": [
    "tasks = {}\n",
    "for _, row in oracle_csv.iterrows():\n",
    "    concept = row['Concept'].lower().strip()\n",
    "    activity = row['Activity'].lower().strip()\n",
    "\n",
    "    if concept not in tasks:\n",
    "        tasks[concept] = [activity]\n",
    "    else:\n",
    "        tasks[concept].append(activity)\n",
    "\n",
    "save_data_to_json(tasks, f'{OUTPUT_PATH_1}/tasks.json')\n",
    "save_data_to_json(tasks, f'{OUTPUT_PATH_2}/tasks.json')"
   ]
  },
  {
   "cell_type": "code",
   "execution_count": null,
   "metadata": {},
   "outputs": [],
   "source": [
    "oracle = {}\n",
    "\n",
    "for _, row in oracle_csv.iterrows():\n",
    "    concept = row['Concept'].lower().strip()\n",
    "    activity = row['Activity'].lower().strip()\n",
    "    objects = list(map(lambda x: x.strip(), row['CommonSense Objects'].split(',')))\n",
    "\n",
    "    temp = {activity: objects}\n",
    "\n",
    "    if concept not in oracle:\n",
    "        oracle[concept] = temp\n",
    "    else:\n",
    "        oracle[concept].update(temp)\n",
    "\n",
    "save_data_to_json(oracle, f'{OUTPUT_PATH_1}/oracle.json')\n",
    "save_data_to_json(oracle, f'{OUTPUT_PATH_2}/oracle.json')"
   ]
  }
 ],
 "metadata": {
  "kernelspec": {
   "display_name": "Python 3",
   "language": "python",
   "name": "python3"
  },
  "language_info": {
   "codemirror_mode": {
    "name": "ipython",
    "version": 3
   },
   "file_extension": ".py",
   "mimetype": "text/x-python",
   "name": "python",
   "nbconvert_exporter": "python",
   "pygments_lexer": "ipython3",
   "version": "3.9.16"
  },
  "orig_nbformat": 4
 },
 "nbformat": 4,
 "nbformat_minor": 2
}
